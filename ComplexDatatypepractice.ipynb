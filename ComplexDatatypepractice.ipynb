{
 "cells": [
  {
   "cell_type": "markdown",
   "id": "81941cc1-ff44-47ae-8b0f-e557bfc464de",
   "metadata": {},
   "source": [
    "# Complex Data Types"
   ]
  },
  {
   "cell_type": "code",
   "execution_count": 2,
   "id": "febb7244-0bd2-41bc-92e0-0be6e352186b",
   "metadata": {},
   "outputs": [],
   "source": [
    "# Boolean Data type:\n",
    "\n",
    "b = True # in Python True is considered as 1\n",
    "b1 = False # in Python False is considered as 0"
   ]
  },
  {
   "cell_type": "code",
   "execution_count": 3,
   "id": "857ceacb-d49c-47da-aafa-8274046c56ae",
   "metadata": {},
   "outputs": [
    {
     "data": {
      "text/plain": [
       "1"
      ]
     },
     "execution_count": 3,
     "metadata": {},
     "output_type": "execute_result"
    }
   ],
   "source": [
    "b + b1"
   ]
  },
  {
   "cell_type": "code",
   "execution_count": 4,
   "id": "0a854fbf-be8d-454c-bfd1-33ec6b0b822f",
   "metadata": {},
   "outputs": [
    {
     "data": {
      "text/plain": [
       "0"
      ]
     },
     "execution_count": 4,
     "metadata": {},
     "output_type": "execute_result"
    }
   ],
   "source": [
    "b * b1"
   ]
  },
  {
   "cell_type": "code",
   "execution_count": 5,
   "id": "0c130b2b-6324-4082-9ed3-3d3c544d3209",
   "metadata": {},
   "outputs": [
    {
     "name": "stdout",
     "output_type": "stream",
     "text": [
      "1\n",
      "1\n",
      "0\n",
      "0.0\n",
      "0\n"
     ]
    }
   ],
   "source": [
    "print(b+b1)\n",
    "print(b-b1)\n",
    "print(b*b1)\n",
    "print(b1/b) # Float Divison\n",
    "print(b1//b) # Int Divison"
   ]
  },
  {
   "cell_type": "code",
   "execution_count": 6,
   "id": "86789b90-4296-45da-90dd-a7f8a3253d86",
   "metadata": {},
   "outputs": [
    {
     "name": "stdout",
     "output_type": "stream",
     "text": [
      "<class 'bool'>\n"
     ]
    }
   ],
   "source": [
    "print(type(b))"
   ]
  },
  {
   "cell_type": "code",
   "execution_count": 11,
   "id": "deabf3f3-5557-44d8-816f-fb4c144a9964",
   "metadata": {},
   "outputs": [],
   "source": [
    "# Complex"
   ]
  },
  {
   "cell_type": "code",
   "execution_count": 8,
   "id": "07456523-1414-435a-a05a-e51bf970f1db",
   "metadata": {},
   "outputs": [
    {
     "data": {
      "text/plain": [
       "(10+20j)"
      ]
     },
     "execution_count": 8,
     "metadata": {},
     "output_type": "execute_result"
    }
   ],
   "source": [
    "c1 = 10 + 20j\n",
    "c1\n",
    "\n",
    "# 10 is real part\n",
    "# 20 is imaginary part\n",
    "# j is square root of -1"
   ]
  },
  {
   "cell_type": "code",
   "execution_count": 14,
   "id": "61e352ac-5601-481f-ae9c-ce88d059d70b",
   "metadata": {},
   "outputs": [
    {
     "data": {
      "text/plain": [
       "complex"
      ]
     },
     "execution_count": 14,
     "metadata": {},
     "output_type": "execute_result"
    }
   ],
   "source": [
    "type(c1)"
   ]
  },
  {
   "cell_type": "code",
   "execution_count": 16,
   "id": "a4e48d57-fff3-4578-ba80-fa8f0097b297",
   "metadata": {},
   "outputs": [
    {
     "data": {
      "text/plain": [
       "10.0"
      ]
     },
     "execution_count": 16,
     "metadata": {},
     "output_type": "execute_result"
    }
   ],
   "source": [
    "c1.real"
   ]
  },
  {
   "cell_type": "code",
   "execution_count": 17,
   "id": "548fab09-5f37-4e05-a38b-e6511c9faa09",
   "metadata": {},
   "outputs": [
    {
     "data": {
      "text/plain": [
       "20.0"
      ]
     },
     "execution_count": 17,
     "metadata": {},
     "output_type": "execute_result"
    }
   ],
   "source": [
    "c1.imag"
   ]
  },
  {
   "cell_type": "code",
   "execution_count": 18,
   "id": "19d02a88-0cc3-44a6-8ae7-e6b39948e1b4",
   "metadata": {},
   "outputs": [
    {
     "data": {
      "text/plain": [
       "<function complex.conjugate()>"
      ]
     },
     "execution_count": 18,
     "metadata": {},
     "output_type": "execute_result"
    }
   ],
   "source": [
    "c1.conjugate"
   ]
  },
  {
   "cell_type": "code",
   "execution_count": 19,
   "id": "5a47f0f7-ea6c-4f2c-a7ec-a5829a40ec57",
   "metadata": {},
   "outputs": [
    {
     "ename": "TypeError",
     "evalue": "int() argument must be a string, a bytes-like object or a real number, not 'complex'",
     "output_type": "error",
     "traceback": [
      "\u001b[1;31m---------------------------------------------------------------------------\u001b[0m",
      "\u001b[1;31mTypeError\u001b[0m                                 Traceback (most recent call last)",
      "Cell \u001b[1;32mIn[19], line 1\u001b[0m\n\u001b[1;32m----> 1\u001b[0m \u001b[38;5;28mprint\u001b[39m(\u001b[38;5;28mint\u001b[39m(\u001b[38;5;241m10\u001b[39m\u001b[38;5;241m+\u001b[39m\u001b[38;5;241m3\u001b[39mj))\n",
      "\u001b[1;31mTypeError\u001b[0m: int() argument must be a string, a bytes-like object or a real number, not 'complex'"
     ]
    }
   ],
   "source": [
    "print(int(10+3j))"
   ]
  },
  {
   "cell_type": "code",
   "execution_count": 10,
   "id": "fd9026cd-ba15-4b8a-9816-b2529d6d992d",
   "metadata": {},
   "outputs": [
    {
     "data": {
      "text/plain": [
       "complex"
      ]
     },
     "execution_count": 10,
     "metadata": {},
     "output_type": "execute_result"
    }
   ],
   "source": [
    "c1 = 10 + 20j\n",
    "\n",
    "type(c1)"
   ]
  },
  {
   "cell_type": "code",
   "execution_count": 11,
   "id": "1284c1af-8252-486b-9b8f-68dc2d722e9d",
   "metadata": {},
   "outputs": [
    {
     "data": {
      "text/plain": [
       "10.0"
      ]
     },
     "execution_count": 11,
     "metadata": {},
     "output_type": "execute_result"
    }
   ],
   "source": [
    "c1.real"
   ]
  },
  {
   "cell_type": "code",
   "execution_count": 12,
   "id": "c666d149-08a6-48f2-ace6-2f36ff24c934",
   "metadata": {},
   "outputs": [
    {
     "data": {
      "text/plain": [
       "20.0"
      ]
     },
     "execution_count": 12,
     "metadata": {},
     "output_type": "execute_result"
    }
   ],
   "source": [
    "c1.imag"
   ]
  },
  {
   "cell_type": "code",
   "execution_count": 13,
   "id": "655f0399-44b4-49e2-9d65-dd9cd2443511",
   "metadata": {},
   "outputs": [
    {
     "data": {
      "text/plain": [
       "(3+5j)"
      ]
     },
     "execution_count": 13,
     "metadata": {},
     "output_type": "execute_result"
    }
   ],
   "source": [
    "c2 = 3 + 5j\n",
    "c2"
   ]
  },
  {
   "cell_type": "code",
   "execution_count": 14,
   "id": "9c6a764e-953c-497b-b5b8-34f73d7de8cf",
   "metadata": {},
   "outputs": [
    {
     "name": "stdout",
     "output_type": "stream",
     "text": [
      "(10+20j)\n",
      "(3+5j)\n"
     ]
    }
   ],
   "source": [
    "print(c1)\n",
    "print(c2)"
   ]
  },
  {
   "cell_type": "code",
   "execution_count": 16,
   "id": "5a112c1a-8a39-4734-902c-a31fe5dc3b1a",
   "metadata": {},
   "outputs": [
    {
     "data": {
      "text/plain": [
       "(13+25j)"
      ]
     },
     "execution_count": 16,
     "metadata": {},
     "output_type": "execute_result"
    }
   ],
   "source": [
    "c1 + c2 # this will the real parts together and imaginary parts together"
   ]
  },
  {
   "cell_type": "markdown",
   "id": "5ce4380d-934e-493d-92fe-b36de3308c10",
   "metadata": {},
   "source": [
    "# Type Casting or Type Conversions"
   ]
  },
  {
   "cell_type": "code",
   "execution_count": 18,
   "id": "1cdcfc3d-ef11-48c7-b0af-4378d10b11d9",
   "metadata": {},
   "outputs": [
    {
     "data": {
      "text/plain": [
       "13"
      ]
     },
     "execution_count": 18,
     "metadata": {},
     "output_type": "execute_result"
    }
   ],
   "source": [
    "int(13.5) # converting float to int"
   ]
  },
  {
   "cell_type": "code",
   "execution_count": 23,
   "id": "629309b8-efac-4d2b-b0ce-58baa0c086fa",
   "metadata": {},
   "outputs": [],
   "source": [
    "int(3.4, 5.7) # this is invalid as type casting will allow only one parameter value at a time"
   ]
  },
  {
   "cell_type": "code",
   "execution_count": 22,
   "id": "16848050-439e-447e-a926-7f861f53296b",
   "metadata": {},
   "outputs": [
    {
     "data": {
      "text/plain": [
       "1"
      ]
     },
     "execution_count": 22,
     "metadata": {},
     "output_type": "execute_result"
    }
   ],
   "source": [
    "int(True) # bool to int"
   ]
  },
  {
   "cell_type": "code",
   "execution_count": 25,
   "id": "3a7af8ad-b2c8-4729-826e-e15e1d3660fe",
   "metadata": {},
   "outputs": [],
   "source": [
    "int(True, False) # invlaid code as we used two inputs here"
   ]
  },
  {
   "cell_type": "code",
   "execution_count": 26,
   "id": "6b50741c-cdf9-43ec-9df3-092a849f19a0",
   "metadata": {},
   "outputs": [
    {
     "data": {
      "text/plain": [
       "0"
      ]
     },
     "execution_count": 26,
     "metadata": {},
     "output_type": "execute_result"
    }
   ],
   "source": [
    "int(False)"
   ]
  },
  {
   "cell_type": "code",
   "execution_count": 28,
   "id": "c8189206-7dd1-407f-ba1d-f3204cf681a3",
   "metadata": {},
   "outputs": [
    {
     "name": "stdout",
     "output_type": "stream",
     "text": [
      "3\n",
      "1\n",
      "10\n"
     ]
    }
   ],
   "source": [
    "print(int(3.4))\n",
    "print(int(True))\n",
    "print(int('10'))"
   ]
  },
  {
   "cell_type": "code",
   "execution_count": 32,
   "id": "148da9e3-bcdd-4a55-94e7-e176350e43a4",
   "metadata": {},
   "outputs": [],
   "source": [
    "print(int(10+20j)) # invalid code as complex data type can't be converted to int"
   ]
  },
  {
   "cell_type": "code",
   "execution_count": 31,
   "id": "5c4883f0-b7a9-47dd-ae2f-73fc73793db2",
   "metadata": {},
   "outputs": [],
   "source": [
    "print(int('ten')) # invalid code as a plain text can't be converted to value"
   ]
  },
  {
   "cell_type": "code",
   "execution_count": null,
   "id": "958e502f-6e95-4ea3-8161-58c41f6fda6d",
   "metadata": {},
   "outputs": [],
   "source": [
    "# converting a string with text or a complex data type is not allowed in Python"
   ]
  },
  {
   "cell_type": "markdown",
   "id": "df4c22a8-d969-40f1-8fbf-f2d74ee3d15b",
   "metadata": {},
   "source": [
    "# 18th Type Casting"
   ]
  },
  {
   "cell_type": "code",
   "execution_count": 33,
   "id": "deaa6d14-a462-4c88-9d69-9698995b1bb6",
   "metadata": {},
   "outputs": [
    {
     "data": {
      "text/plain": [
       "20.0"
      ]
     },
     "execution_count": 33,
     "metadata": {},
     "output_type": "execute_result"
    }
   ],
   "source": [
    "float(20)"
   ]
  },
  {
   "cell_type": "code",
   "execution_count": 34,
   "id": "c05f2a2e-fe88-4bdc-af49-a9bf0610b9bc",
   "metadata": {},
   "outputs": [
    {
     "ename": "TypeError",
     "evalue": "float expected at most 1 argument, got 2",
     "output_type": "error",
     "traceback": [
      "\u001b[1;31m---------------------------------------------------------------------------\u001b[0m",
      "\u001b[1;31mTypeError\u001b[0m                                 Traceback (most recent call last)",
      "Cell \u001b[1;32mIn[34], line 1\u001b[0m\n\u001b[1;32m----> 1\u001b[0m \u001b[38;5;28mfloat\u001b[39m(\u001b[38;5;241m2\u001b[39m, \u001b[38;5;241m56\u001b[39m)\n",
      "\u001b[1;31mTypeError\u001b[0m: float expected at most 1 argument, got 2"
     ]
    }
   ],
   "source": [
    "float(2, 56)"
   ]
  },
  {
   "cell_type": "code",
   "execution_count": 35,
   "id": "cb980f68-0fe4-457f-b08f-697a906a6606",
   "metadata": {},
   "outputs": [
    {
     "data": {
      "text/plain": [
       "1.0"
      ]
     },
     "execution_count": 35,
     "metadata": {},
     "output_type": "execute_result"
    }
   ],
   "source": [
    "float(True)"
   ]
  },
  {
   "cell_type": "code",
   "execution_count": 36,
   "id": "f70ca506-7c81-4167-9fb0-10416ca9b164",
   "metadata": {},
   "outputs": [
    {
     "data": {
      "text/plain": [
       "0.0"
      ]
     },
     "execution_count": 36,
     "metadata": {},
     "output_type": "execute_result"
    }
   ],
   "source": [
    "float(False)\n"
   ]
  },
  {
   "cell_type": "code",
   "execution_count": 37,
   "id": "d2931c1a-23df-44d0-8756-8e1f67b7d716",
   "metadata": {},
   "outputs": [
    {
     "ename": "TypeError",
     "evalue": "float() argument must be a string or a real number, not 'complex'",
     "output_type": "error",
     "traceback": [
      "\u001b[1;31m---------------------------------------------------------------------------\u001b[0m",
      "\u001b[1;31mTypeError\u001b[0m                                 Traceback (most recent call last)",
      "Cell \u001b[1;32mIn[37], line 1\u001b[0m\n\u001b[1;32m----> 1\u001b[0m \u001b[38;5;28mfloat\u001b[39m(\u001b[38;5;241m1\u001b[39m\u001b[38;5;241m+\u001b[39m\u001b[38;5;241m2\u001b[39mj)\n",
      "\u001b[1;31mTypeError\u001b[0m: float() argument must be a string or a real number, not 'complex'"
     ]
    }
   ],
   "source": [
    "float(1+2j)"
   ]
  },
  {
   "cell_type": "code",
   "execution_count": 38,
   "id": "53538063-b887-4aed-9962-6c24db4666a5",
   "metadata": {},
   "outputs": [
    {
     "data": {
      "text/plain": [
       "10.0"
      ]
     },
     "execution_count": 38,
     "metadata": {},
     "output_type": "execute_result"
    }
   ],
   "source": [
    "float('10')"
   ]
  },
  {
   "cell_type": "code",
   "execution_count": 39,
   "id": "774f99fd-d2ab-46cd-9510-d4058470752c",
   "metadata": {},
   "outputs": [
    {
     "ename": "ValueError",
     "evalue": "could not convert string to float: 'ten'",
     "output_type": "error",
     "traceback": [
      "\u001b[1;31m---------------------------------------------------------------------------\u001b[0m",
      "\u001b[1;31mValueError\u001b[0m                                Traceback (most recent call last)",
      "Cell \u001b[1;32mIn[39], line 1\u001b[0m\n\u001b[1;32m----> 1\u001b[0m \u001b[38;5;28mfloat\u001b[39m(\u001b[38;5;124m'\u001b[39m\u001b[38;5;124mten\u001b[39m\u001b[38;5;124m'\u001b[39m)\n",
      "\u001b[1;31mValueError\u001b[0m: could not convert string to float: 'ten'"
     ]
    }
   ],
   "source": [
    "float('ten')"
   ]
  },
  {
   "cell_type": "code",
   "execution_count": 40,
   "id": "a7f6089a-c288-4029-aad3-cb718cbc7359",
   "metadata": {},
   "outputs": [],
   "source": [
    "# from other datatypes to float except complex and 'string text'"
   ]
  },
  {
   "cell_type": "code",
   "execution_count": 41,
   "id": "fb3165fc-609c-44a5-bd53-009831f6aead",
   "metadata": {},
   "outputs": [
    {
     "data": {
      "text/plain": [
       "(10+0j)"
      ]
     },
     "execution_count": 41,
     "metadata": {},
     "output_type": "execute_result"
    }
   ],
   "source": [
    "complex(10)"
   ]
  },
  {
   "cell_type": "code",
   "execution_count": 42,
   "id": "c8ec4816-c7a1-4abd-867c-90f9df981dc8",
   "metadata": {},
   "outputs": [
    {
     "data": {
      "text/plain": [
       "(10+20j)"
      ]
     },
     "execution_count": 42,
     "metadata": {},
     "output_type": "execute_result"
    }
   ],
   "source": [
    "complex(10,20)"
   ]
  },
  {
   "cell_type": "code",
   "execution_count": 43,
   "id": "d5310011-e2e7-4f89-a17d-512d4d355158",
   "metadata": {},
   "outputs": [
    {
     "ename": "TypeError",
     "evalue": "complex() takes at most 2 arguments (3 given)",
     "output_type": "error",
     "traceback": [
      "\u001b[1;31m---------------------------------------------------------------------------\u001b[0m",
      "\u001b[1;31mTypeError\u001b[0m                                 Traceback (most recent call last)",
      "Cell \u001b[1;32mIn[43], line 1\u001b[0m\n\u001b[1;32m----> 1\u001b[0m \u001b[38;5;28mcomplex\u001b[39m(\u001b[38;5;241m10\u001b[39m, \u001b[38;5;241m20\u001b[39m, \u001b[38;5;241m30\u001b[39m)\n",
      "\u001b[1;31mTypeError\u001b[0m: complex() takes at most 2 arguments (3 given)"
     ]
    }
   ],
   "source": [
    "complex(10, 20, 30)"
   ]
  },
  {
   "cell_type": "code",
   "execution_count": 44,
   "id": "905c2b12-ee9c-4490-b2f0-8f78f7271a23",
   "metadata": {},
   "outputs": [
    {
     "data": {
      "text/plain": [
       "(1+0j)"
      ]
     },
     "execution_count": 44,
     "metadata": {},
     "output_type": "execute_result"
    }
   ],
   "source": [
    "complex(True)"
   ]
  },
  {
   "cell_type": "code",
   "execution_count": 45,
   "id": "abbb1283-dbbc-4b0a-abfb-ef4eeb17623f",
   "metadata": {},
   "outputs": [
    {
     "data": {
      "text/plain": [
       "0j"
      ]
     },
     "execution_count": 45,
     "metadata": {},
     "output_type": "execute_result"
    }
   ],
   "source": [
    "complex(False)"
   ]
  },
  {
   "cell_type": "code",
   "execution_count": 46,
   "id": "1662b2e8-d6fe-4d97-85ef-2f7e34d73831",
   "metadata": {},
   "outputs": [
    {
     "data": {
      "text/plain": [
       "(10+0j)"
      ]
     },
     "execution_count": 46,
     "metadata": {},
     "output_type": "execute_result"
    }
   ],
   "source": [
    "complex('10')"
   ]
  },
  {
   "cell_type": "code",
   "execution_count": 49,
   "id": "25c78172-f640-43f6-a83c-40233cb2db7e",
   "metadata": {},
   "outputs": [
    {
     "data": {
      "text/plain": [
       "(3.2+5.6j)"
      ]
     },
     "execution_count": 49,
     "metadata": {},
     "output_type": "execute_result"
    }
   ],
   "source": [
    "complex(3.2,5.6)"
   ]
  },
  {
   "cell_type": "code",
   "execution_count": 48,
   "id": "35e6dac1-0b93-487d-b9d7-6f4e9bdb4b50",
   "metadata": {},
   "outputs": [
    {
     "ename": "ValueError",
     "evalue": "complex() arg is a malformed string",
     "output_type": "error",
     "traceback": [
      "\u001b[1;31m---------------------------------------------------------------------------\u001b[0m",
      "\u001b[1;31mValueError\u001b[0m                                Traceback (most recent call last)",
      "Cell \u001b[1;32mIn[48], line 1\u001b[0m\n\u001b[1;32m----> 1\u001b[0m \u001b[38;5;28mcomplex\u001b[39m(\u001b[38;5;124m'\u001b[39m\u001b[38;5;124mten\u001b[39m\u001b[38;5;124m'\u001b[39m)\n",
      "\u001b[1;31mValueError\u001b[0m: complex() arg is a malformed string"
     ]
    }
   ],
   "source": [
    "complex('ten')"
   ]
  },
  {
   "cell_type": "markdown",
   "id": "f2c216da-fad2-49a1-a291-a87f8d0e88f9",
   "metadata": {},
   "source": [
    "# from other data types to complex except text string"
   ]
  },
  {
   "cell_type": "code",
   "execution_count": 52,
   "id": "839e87d1-954c-4287-b34e-dace1e8577ce",
   "metadata": {},
   "outputs": [
    {
     "data": {
      "text/plain": [
       "True"
      ]
     },
     "execution_count": 52,
     "metadata": {},
     "output_type": "execute_result"
    }
   ],
   "source": [
    "bool(10)"
   ]
  },
  {
   "cell_type": "code",
   "execution_count": 53,
   "id": "e36d567f-4ddf-46a2-afd2-807f4931b042",
   "metadata": {},
   "outputs": [
    {
     "data": {
      "text/plain": [
       "False"
      ]
     },
     "execution_count": 53,
     "metadata": {},
     "output_type": "execute_result"
    }
   ],
   "source": [
    "bool(0)"
   ]
  },
  {
   "cell_type": "code",
   "execution_count": 54,
   "id": "adb895f7-a469-4673-bf36-35ff07382dfb",
   "metadata": {},
   "outputs": [
    {
     "data": {
      "text/plain": [
       "True"
      ]
     },
     "execution_count": 54,
     "metadata": {},
     "output_type": "execute_result"
    }
   ],
   "source": [
    "bool(3.2)"
   ]
  },
  {
   "cell_type": "code",
   "execution_count": 55,
   "id": "f678fbe1-894b-43c4-bfbf-ed0c8f59330b",
   "metadata": {},
   "outputs": [
    {
     "data": {
      "text/plain": [
       "False"
      ]
     },
     "execution_count": 55,
     "metadata": {},
     "output_type": "execute_result"
    }
   ],
   "source": [
    "bool(0.0)"
   ]
  },
  {
   "cell_type": "code",
   "execution_count": 56,
   "id": "c670759b-a28d-419f-999b-664d9c5fc3fc",
   "metadata": {},
   "outputs": [
    {
     "data": {
      "text/plain": [
       "True"
      ]
     },
     "execution_count": 56,
     "metadata": {},
     "output_type": "execute_result"
    }
   ],
   "source": [
    "bool(1+2j)"
   ]
  },
  {
   "cell_type": "code",
   "execution_count": 57,
   "id": "19e06711-4024-4c37-b8b2-200393b88ea1",
   "metadata": {},
   "outputs": [
    {
     "data": {
      "text/plain": [
       "False"
      ]
     },
     "execution_count": 57,
     "metadata": {},
     "output_type": "execute_result"
    }
   ],
   "source": [
    "bool(0+0j)"
   ]
  },
  {
   "cell_type": "code",
   "execution_count": 58,
   "id": "52978891-5a52-4cb3-8e30-4f4cfabe9abd",
   "metadata": {},
   "outputs": [
    {
     "data": {
      "text/plain": [
       "True"
      ]
     },
     "execution_count": 58,
     "metadata": {},
     "output_type": "execute_result"
    }
   ],
   "source": [
    "bool('ten')"
   ]
  },
  {
   "cell_type": "code",
   "execution_count": 59,
   "id": "9a9059e6-920e-44a8-827e-a6c3896f8c11",
   "metadata": {},
   "outputs": [
    {
     "data": {
      "text/plain": [
       "True"
      ]
     },
     "execution_count": 59,
     "metadata": {},
     "output_type": "execute_result"
    }
   ],
   "source": [
    "bool('10')"
   ]
  },
  {
   "cell_type": "code",
   "execution_count": 60,
   "id": "291cbb85-666b-4311-80d1-ae3b7fee517e",
   "metadata": {},
   "outputs": [
    {
     "data": {
      "text/plain": [
       "True"
      ]
     },
     "execution_count": 60,
     "metadata": {},
     "output_type": "execute_result"
    }
   ],
   "source": [
    "bool(_)"
   ]
  },
  {
   "cell_type": "code",
   "execution_count": 61,
   "id": "f9c84047-66fa-47e3-8b55-a7eb04b82a87",
   "metadata": {},
   "outputs": [
    {
     "data": {
      "text/plain": [
       "False"
      ]
     },
     "execution_count": 61,
     "metadata": {},
     "output_type": "execute_result"
    }
   ],
   "source": [
    "bool( )"
   ]
  },
  {
   "cell_type": "markdown",
   "id": "e3b4a369-1547-425f-a3bd-f53e457f1a89",
   "metadata": {},
   "source": [
    "# String"
   ]
  },
  {
   "cell_type": "code",
   "execution_count": 63,
   "id": "9c2a1045-5996-4c44-86d1-b50dbf95cbe0",
   "metadata": {},
   "outputs": [],
   "source": [
    "s9 = 'Hello Python'"
   ]
  },
  {
   "cell_type": "code",
   "execution_count": 65,
   "id": "16dd9bf0-d702-4a83-a616-b94bafd6f3bb",
   "metadata": {},
   "outputs": [
    {
     "data": {
      "text/plain": [
       "'Hello Python'"
      ]
     },
     "execution_count": 65,
     "metadata": {},
     "output_type": "execute_result"
    }
   ],
   "source": [
    "s9[:]"
   ]
  },
  {
   "cell_type": "code",
   "execution_count": 67,
   "id": "44550dc9-5e0c-4612-bc4e-1e0eaf40c465",
   "metadata": {},
   "outputs": [
    {
     "name": "stdout",
     "output_type": "stream",
     "text": [
      "H\n",
      "e\n",
      "l\n",
      "l\n",
      "o\n",
      " \n",
      "P\n",
      "y\n",
      "t\n",
      "h\n",
      "o\n",
      "n\n"
     ]
    }
   ],
   "source": [
    "for i in s9:\n",
    "    print(i)\n"
   ]
  },
  {
   "cell_type": "code",
   "execution_count": 68,
   "id": "4bdfd822-6bb2-40ca-a2eb-afde498eb9a6",
   "metadata": {},
   "outputs": [
    {
     "data": {
      "text/plain": [
       "'Hello Python'"
      ]
     },
     "execution_count": 68,
     "metadata": {},
     "output_type": "execute_result"
    }
   ],
   "source": [
    "s9"
   ]
  },
  {
   "cell_type": "code",
   "execution_count": 69,
   "id": "184d4f61-b655-4765-81bb-6a58d5930d62",
   "metadata": {},
   "outputs": [
    {
     "data": {
      "text/plain": [
       "'H'"
      ]
     },
     "execution_count": 69,
     "metadata": {},
     "output_type": "execute_result"
    }
   ],
   "source": [
    "s9[0]"
   ]
  },
  {
   "cell_type": "code",
   "execution_count": 70,
   "id": "345f8cc1-020a-498f-adb1-3397edb873b2",
   "metadata": {},
   "outputs": [
    {
     "ename": "IndexError",
     "evalue": "string index out of range",
     "output_type": "error",
     "traceback": [
      "\u001b[1;31m---------------------------------------------------------------------------\u001b[0m",
      "\u001b[1;31mIndexError\u001b[0m                                Traceback (most recent call last)",
      "Cell \u001b[1;32mIn[70], line 1\u001b[0m\n\u001b[1;32m----> 1\u001b[0m s9[\u001b[38;5;241m20\u001b[39m]\n",
      "\u001b[1;31mIndexError\u001b[0m: string index out of range"
     ]
    }
   ],
   "source": [
    "s9[20]"
   ]
  },
  {
   "cell_type": "code",
   "execution_count": 71,
   "id": "92a69361-50c0-445a-a642-6cf8ac767f53",
   "metadata": {},
   "outputs": [
    {
     "data": {
      "text/plain": [
       "'n'"
      ]
     },
     "execution_count": 71,
     "metadata": {},
     "output_type": "execute_result"
    }
   ],
   "source": [
    "s9[-1]"
   ]
  },
  {
   "cell_type": "code",
   "execution_count": 72,
   "id": "b5b8c39e-1add-41ff-8c99-c7f3e9029361",
   "metadata": {},
   "outputs": [
    {
     "data": {
      "text/plain": [
       "'t'"
      ]
     },
     "execution_count": 72,
     "metadata": {},
     "output_type": "execute_result"
    }
   ],
   "source": [
    "s9[-4]"
   ]
  },
  {
   "cell_type": "code",
   "execution_count": 73,
   "id": "a3f7c887-aa03-474b-8435-deabc826adbf",
   "metadata": {},
   "outputs": [
    {
     "data": {
      "text/plain": [
       "'Hello Python'"
      ]
     },
     "execution_count": 73,
     "metadata": {},
     "output_type": "execute_result"
    }
   ],
   "source": [
    "s9"
   ]
  },
  {
   "cell_type": "code",
   "execution_count": 74,
   "id": "ed7db1c0-c1cb-4d73-a2e7-e208f7bb8917",
   "metadata": {},
   "outputs": [
    {
     "data": {
      "text/plain": [
       "'nohtyP olleH'"
      ]
     },
     "execution_count": 74,
     "metadata": {},
     "output_type": "execute_result"
    }
   ],
   "source": [
    "s9[::-1]"
   ]
  },
  {
   "cell_type": "code",
   "execution_count": 75,
   "id": "572dcf93-4a6a-444a-a463-1a9721ca5800",
   "metadata": {},
   "outputs": [
    {
     "data": {
      "text/plain": [
       "'Hello'"
      ]
     },
     "execution_count": 75,
     "metadata": {},
     "output_type": "execute_result"
    }
   ],
   "source": [
    "s9[:5]"
   ]
  },
  {
   "cell_type": "code",
   "execution_count": 76,
   "id": "284a130d-13d0-4035-8327-43e6f715a451",
   "metadata": {},
   "outputs": [
    {
     "data": {
      "text/plain": [
       "'Hello Pytho'"
      ]
     },
     "execution_count": 76,
     "metadata": {},
     "output_type": "execute_result"
    }
   ],
   "source": [
    "s9[0:-1]"
   ]
  },
  {
   "cell_type": "code",
   "execution_count": 77,
   "id": "2e2fb442-68ff-4651-9744-3975e10052b3",
   "metadata": {},
   "outputs": [
    {
     "data": {
      "text/plain": [
       "'Hello Python'"
      ]
     },
     "execution_count": 77,
     "metadata": {},
     "output_type": "execute_result"
    }
   ],
   "source": [
    "s9"
   ]
  },
  {
   "cell_type": "code",
   "execution_count": 78,
   "id": "c04e4b63-cb43-42b4-b60e-87a8fd9b80d4",
   "metadata": {},
   "outputs": [
    {
     "data": {
      "text/plain": [
       "'ello Python'"
      ]
     },
     "execution_count": 78,
     "metadata": {},
     "output_type": "execute_result"
    }
   ],
   "source": [
    "s9[1:20]"
   ]
  },
  {
   "cell_type": "code",
   "execution_count": 79,
   "id": "5f74e156-3d41-4b1d-be2d-54a7f40bf9d2",
   "metadata": {},
   "outputs": [
    {
     "data": {
      "text/plain": [
       "'ello Pyt'"
      ]
     },
     "execution_count": 79,
     "metadata": {},
     "output_type": "execute_result"
    }
   ],
   "source": [
    "s9[1:9]"
   ]
  },
  {
   "cell_type": "code",
   "execution_count": 80,
   "id": "d7551eac-1f60-4448-b004-a057e77ece5c",
   "metadata": {},
   "outputs": [
    {
     "data": {
      "text/plain": [
       "'Hello Python'"
      ]
     },
     "execution_count": 80,
     "metadata": {},
     "output_type": "execute_result"
    }
   ],
   "source": [
    "s9"
   ]
  },
  {
   "cell_type": "code",
   "execution_count": 81,
   "id": "c7987b70-64c6-48be-b730-15e7fb5209d4",
   "metadata": {},
   "outputs": [
    {
     "data": {
      "text/plain": [
       "'Hello'"
      ]
     },
     "execution_count": 81,
     "metadata": {},
     "output_type": "execute_result"
    }
   ],
   "source": [
    "s9[:5]"
   ]
  },
  {
   "cell_type": "code",
   "execution_count": 82,
   "id": "f561b5e2-cc48-42e2-84fc-f15512b3a3bb",
   "metadata": {},
   "outputs": [
    {
     "data": {
      "text/plain": [
       "' Python'"
      ]
     },
     "execution_count": 82,
     "metadata": {},
     "output_type": "execute_result"
    }
   ],
   "source": [
    "s9[5:]"
   ]
  },
  {
   "cell_type": "code",
   "execution_count": 83,
   "id": "fdecf1d3-1294-419c-8edb-89fad1cab533",
   "metadata": {},
   "outputs": [
    {
     "data": {
      "text/plain": [
       "'Hello Python'"
      ]
     },
     "execution_count": 83,
     "metadata": {},
     "output_type": "execute_result"
    }
   ],
   "source": [
    "s9"
   ]
  },
  {
   "cell_type": "code",
   "execution_count": 84,
   "id": "95db69cb-f636-4f55-9011-0a400e85295d",
   "metadata": {},
   "outputs": [
    {
     "data": {
      "text/plain": [
       "'HloPto'"
      ]
     },
     "execution_count": 84,
     "metadata": {},
     "output_type": "execute_result"
    }
   ],
   "source": [
    "s9[0:11:2]"
   ]
  },
  {
   "cell_type": "code",
   "execution_count": 85,
   "id": "0dfe24bc-0213-44b7-8360-c51bdb7f5079",
   "metadata": {},
   "outputs": [
    {
     "data": {
      "text/plain": [
       "'H '"
      ]
     },
     "execution_count": 85,
     "metadata": {},
     "output_type": "execute_result"
    }
   ],
   "source": [
    "s9[0:9:5]"
   ]
  },
  {
   "cell_type": "code",
   "execution_count": 86,
   "id": "9e1f0acd-6ba0-43b0-8106-441c51e90a16",
   "metadata": {},
   "outputs": [
    {
     "data": {
      "text/plain": [
       "'e'"
      ]
     },
     "execution_count": 86,
     "metadata": {},
     "output_type": "execute_result"
    }
   ],
   "source": [
    "s9[1:3:5]"
   ]
  },
  {
   "cell_type": "code",
   "execution_count": 87,
   "id": "17d84e28-6fd2-4ec8-b711-511aa78cb89d",
   "metadata": {},
   "outputs": [
    {
     "data": {
      "text/plain": [
       "'H o'"
      ]
     },
     "execution_count": 87,
     "metadata": {},
     "output_type": "execute_result"
    }
   ],
   "source": [
    "s9[0:11:5]"
   ]
  },
  {
   "cell_type": "code",
   "execution_count": 88,
   "id": "c906290d-ba8d-4aa7-ae6f-bfa6b9633c1f",
   "metadata": {},
   "outputs": [
    {
     "data": {
      "text/plain": [
       "'nhy le'"
      ]
     },
     "execution_count": 88,
     "metadata": {},
     "output_type": "execute_result"
    }
   ],
   "source": [
    "s9[::-2]"
   ]
  },
  {
   "cell_type": "code",
   "execution_count": 89,
   "id": "ffc30efd-ad8a-4e06-a76a-48532d87f18e",
   "metadata": {},
   "outputs": [],
   "source": [
    "s9='HelloPython'"
   ]
  },
  {
   "cell_type": "code",
   "execution_count": 90,
   "id": "941bf81c-3106-48a2-b802-43f51d77b511",
   "metadata": {},
   "outputs": [
    {
     "data": {
      "text/plain": [
       "'nhyolH'"
      ]
     },
     "execution_count": 90,
     "metadata": {},
     "output_type": "execute_result"
    }
   ],
   "source": [
    "s9[::-2]"
   ]
  },
  {
   "cell_type": "code",
   "execution_count": 91,
   "id": "e9f02694-7e29-408a-bf5e-48044fa95394",
   "metadata": {},
   "outputs": [
    {
     "data": {
      "text/plain": [
       "'ntoe'"
      ]
     },
     "execution_count": 91,
     "metadata": {},
     "output_type": "execute_result"
    }
   ],
   "source": [
    "s9[::-3]"
   ]
  },
  {
   "cell_type": "markdown",
   "id": "6275de0e-d280-4461-8ac6-b4c7f83ca040",
   "metadata": {},
   "source": [
    "# 17th April Practice"
   ]
  },
  {
   "cell_type": "code",
   "execution_count": 92,
   "id": "355b481f-2fe9-4f04-870b-a27bc8260948",
   "metadata": {},
   "outputs": [],
   "source": [
    "b = True"
   ]
  },
  {
   "cell_type": "code",
   "execution_count": 93,
   "id": "7d6f20b2-c2de-4380-a2aa-ec3d474d5d3f",
   "metadata": {},
   "outputs": [],
   "source": [
    "b1 = False"
   ]
  },
  {
   "cell_type": "code",
   "execution_count": 95,
   "id": "043f6dff-e8d4-4498-abce-8b463b4f152c",
   "metadata": {},
   "outputs": [
    {
     "name": "stdout",
     "output_type": "stream",
     "text": [
      "1\n"
     ]
    }
   ],
   "source": [
    "print(b + b1)"
   ]
  },
  {
   "cell_type": "code",
   "execution_count": 98,
   "id": "8305b370-ac40-4c5e-9b6a-37c653f23d9f",
   "metadata": {},
   "outputs": [
    {
     "name": "stdout",
     "output_type": "stream",
     "text": [
      "1\n",
      "0\n",
      "0.0\n",
      "0\n"
     ]
    }
   ],
   "source": [
    "print(b - b1)\n",
    "print(b * b1)\n",
    "print(b1 / b) # float divison\n",
    "print(b1 // b) # int divison"
   ]
  },
  {
   "cell_type": "markdown",
   "id": "1b180f33-8e82-48a6-aac5-b16aeb6acaf3",
   "metadata": {},
   "source": [
    "# Complex data type - we use them more in math operations - nasa, isro and robot\n",
    "\n",
    "a + bj\n",
    "\n",
    "- a - real part\n",
    "- b - imaginary part\n",
    "- j - square root of -1"
   ]
  },
  {
   "cell_type": "code",
   "execution_count": 101,
   "id": "bc55e397-a5f2-4324-8cac-75e4330cf2f5",
   "metadata": {},
   "outputs": [],
   "source": [
    "c1 = 10 + 20j"
   ]
  },
  {
   "cell_type": "code",
   "execution_count": 102,
   "id": "33c553ad-ba7d-4bc9-b3ff-ef85b16102f5",
   "metadata": {},
   "outputs": [
    {
     "data": {
      "text/plain": [
       "bool"
      ]
     },
     "execution_count": 102,
     "metadata": {},
     "output_type": "execute_result"
    }
   ],
   "source": [
    "type(b)"
   ]
  },
  {
   "cell_type": "code",
   "execution_count": 103,
   "id": "f0ba0724-68e5-4b8e-b268-c6265ce269a2",
   "metadata": {},
   "outputs": [
    {
     "data": {
      "text/plain": [
       "complex"
      ]
     },
     "execution_count": 103,
     "metadata": {},
     "output_type": "execute_result"
    }
   ],
   "source": [
    "type(c1)"
   ]
  },
  {
   "cell_type": "code",
   "execution_count": 104,
   "id": "8539bcca-6a96-43aa-859c-460d0aae298a",
   "metadata": {},
   "outputs": [
    {
     "data": {
      "text/plain": [
       "10.0"
      ]
     },
     "execution_count": 104,
     "metadata": {},
     "output_type": "execute_result"
    }
   ],
   "source": [
    "c1.real"
   ]
  },
  {
   "cell_type": "code",
   "execution_count": 105,
   "id": "784852ec-f867-465e-846c-c911bf9c13f8",
   "metadata": {},
   "outputs": [
    {
     "data": {
      "text/plain": [
       "20.0"
      ]
     },
     "execution_count": 105,
     "metadata": {},
     "output_type": "execute_result"
    }
   ],
   "source": [
    "c1.imag"
   ]
  },
  {
   "cell_type": "code",
   "execution_count": 109,
   "id": "896d9dee-6ab3-4b69-ad1b-d995ac718c02",
   "metadata": {},
   "outputs": [],
   "source": [
    "c2 = 3 + 5J # only j/J is allowed for defining the square root value of complex data types."
   ]
  },
  {
   "cell_type": "code",
   "execution_count": 107,
   "id": "d71aa313-1047-4d4b-b188-8fb72b515cc6",
   "metadata": {},
   "outputs": [
    {
     "name": "stdout",
     "output_type": "stream",
     "text": [
      "(10+20j)\n",
      "(3+5j)\n"
     ]
    }
   ],
   "source": [
    "print(c1)\n",
    "print(c2)"
   ]
  },
  {
   "cell_type": "code",
   "execution_count": 110,
   "id": "e3922d14-8d5c-4a79-9856-15abc9df9dbd",
   "metadata": {},
   "outputs": [
    {
     "name": "stdout",
     "output_type": "stream",
     "text": [
      "(13+25j)\n"
     ]
    }
   ],
   "source": [
    "print(c1+c2)"
   ]
  },
  {
   "cell_type": "markdown",
   "id": "1e57be09-9d36-4031-ad03-e3e5336b2df4",
   "metadata": {},
   "source": [
    "# Type Casting or Type Conversions"
   ]
  },
  {
   "cell_type": "code",
   "execution_count": 111,
   "id": "20ca4d1a-b881-45e6-bcb4-27d5a2571260",
   "metadata": {},
   "outputs": [
    {
     "data": {
      "text/plain": [
       "3"
      ]
     },
     "execution_count": 111,
     "metadata": {},
     "output_type": "execute_result"
    }
   ],
   "source": [
    "int(3.4) # float to int"
   ]
  },
  {
   "cell_type": "code",
   "execution_count": 112,
   "id": "8a3f63f7-8c4c-43c1-9e38-6f40651d7f4b",
   "metadata": {},
   "outputs": [
    {
     "ename": "TypeError",
     "evalue": "'float' object cannot be interpreted as an integer",
     "output_type": "error",
     "traceback": [
      "\u001b[1;31m---------------------------------------------------------------------------\u001b[0m",
      "\u001b[1;31mTypeError\u001b[0m                                 Traceback (most recent call last)",
      "Cell \u001b[1;32mIn[112], line 1\u001b[0m\n\u001b[1;32m----> 1\u001b[0m \u001b[38;5;28mint\u001b[39m(\u001b[38;5;241m3.4\u001b[39m, \u001b[38;5;241m5.7\u001b[39m)\n",
      "\u001b[1;31mTypeError\u001b[0m: 'float' object cannot be interpreted as an integer"
     ]
    }
   ],
   "source": [
    "int(3.4, 5.7)"
   ]
  },
  {
   "cell_type": "code",
   "execution_count": 113,
   "id": "37ce0f2e-776d-442e-bcdd-69b9e476a112",
   "metadata": {},
   "outputs": [
    {
     "data": {
      "text/plain": [
       "1"
      ]
     },
     "execution_count": 113,
     "metadata": {},
     "output_type": "execute_result"
    }
   ],
   "source": [
    "int(True) # bool to int"
   ]
  },
  {
   "cell_type": "code",
   "execution_count": 116,
   "id": "c5fdb7d4-9199-40a4-8d1c-33f932eca89b",
   "metadata": {},
   "outputs": [
    {
     "ename": "TypeError",
     "evalue": "int() can't convert non-string with explicit base",
     "output_type": "error",
     "traceback": [
      "\u001b[1;31m---------------------------------------------------------------------------\u001b[0m",
      "\u001b[1;31mTypeError\u001b[0m                                 Traceback (most recent call last)",
      "Cell \u001b[1;32mIn[116], line 1\u001b[0m\n\u001b[1;32m----> 1\u001b[0m \u001b[38;5;28mint\u001b[39m(\u001b[38;5;28;01mTrue\u001b[39;00m, \u001b[38;5;28;01mFalse\u001b[39;00m)\n",
      "\u001b[1;31mTypeError\u001b[0m: int() can't convert non-string with explicit base"
     ]
    }
   ],
   "source": [
    "int(True, False)"
   ]
  },
  {
   "cell_type": "code",
   "execution_count": 115,
   "id": "1e6a70fc-cfc6-4fd5-be33-92c9d21539ec",
   "metadata": {},
   "outputs": [
    {
     "data": {
      "text/plain": [
       "0"
      ]
     },
     "execution_count": 115,
     "metadata": {},
     "output_type": "execute_result"
    }
   ],
   "source": [
    "int(False) # bool to int"
   ]
  },
  {
   "cell_type": "code",
   "execution_count": 118,
   "id": "17d88418-99b3-41af-9736-61a60079b86b",
   "metadata": {},
   "outputs": [
    {
     "name": "stdout",
     "output_type": "stream",
     "text": [
      "3\n",
      "1\n",
      "10\n"
     ]
    }
   ],
   "source": [
    "print(int(3.4))\n",
    "print(int(True))\n",
    "print(int('10'))"
   ]
  },
  {
   "cell_type": "code",
   "execution_count": 119,
   "id": "f1867e96-9e4c-44b2-8685-c90a31d9afef",
   "metadata": {},
   "outputs": [
    {
     "ename": "TypeError",
     "evalue": "int() argument must be a string, a bytes-like object or a real number, not 'complex'",
     "output_type": "error",
     "traceback": [
      "\u001b[1;31m---------------------------------------------------------------------------\u001b[0m",
      "\u001b[1;31mTypeError\u001b[0m                                 Traceback (most recent call last)",
      "Cell \u001b[1;32mIn[119], line 1\u001b[0m\n\u001b[1;32m----> 1\u001b[0m \u001b[38;5;28mprint\u001b[39m(\u001b[38;5;28mint\u001b[39m(\u001b[38;5;241m3\u001b[39m\u001b[38;5;241m+\u001b[39m\u001b[38;5;241m4\u001b[39mj))\n",
      "\u001b[1;31mTypeError\u001b[0m: int() argument must be a string, a bytes-like object or a real number, not 'complex'"
     ]
    }
   ],
   "source": [
    "print(int(3+4j))"
   ]
  },
  {
   "cell_type": "code",
   "execution_count": 120,
   "id": "fe7a6b3e-5e03-4ac4-a6cb-10db4bea3c68",
   "metadata": {},
   "outputs": [
    {
     "ename": "ValueError",
     "evalue": "invalid literal for int() with base 10: 'ten'",
     "output_type": "error",
     "traceback": [
      "\u001b[1;31m---------------------------------------------------------------------------\u001b[0m",
      "\u001b[1;31mValueError\u001b[0m                                Traceback (most recent call last)",
      "Cell \u001b[1;32mIn[120], line 1\u001b[0m\n\u001b[1;32m----> 1\u001b[0m \u001b[38;5;28mprint\u001b[39m(\u001b[38;5;28mint\u001b[39m(\u001b[38;5;124m'\u001b[39m\u001b[38;5;124mten\u001b[39m\u001b[38;5;124m'\u001b[39m))\n",
      "\u001b[1;31mValueError\u001b[0m: invalid literal for int() with base 10: 'ten'"
     ]
    }
   ],
   "source": [
    "print(int('ten'))"
   ]
  },
  {
   "cell_type": "markdown",
   "id": "32cdffb0-b6fd-4a2a-afab-0a141979c10e",
   "metadata": {},
   "source": [
    "# In Python, type casting is possible from other data types(float, bool, string) to int except Complex and string with text"
   ]
  },
  {
   "cell_type": "code",
   "execution_count": null,
   "id": "346297d7-d121-4eb0-aeee-2a695de5262e",
   "metadata": {},
   "outputs": [],
   "source": []
  }
 ],
 "metadata": {
  "kernelspec": {
   "display_name": "Python 3 (ipykernel)",
   "language": "python",
   "name": "python3"
  },
  "language_info": {
   "codemirror_mode": {
    "name": "ipython",
    "version": 3
   },
   "file_extension": ".py",
   "mimetype": "text/x-python",
   "name": "python",
   "nbconvert_exporter": "python",
   "pygments_lexer": "ipython3",
   "version": "3.12.7"
  }
 },
 "nbformat": 4,
 "nbformat_minor": 5
}
